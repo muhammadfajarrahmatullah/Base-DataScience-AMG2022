{
  "cells": [
    {
      "cell_type": "code",
      "execution_count": null,
      "metadata": {
        "id": "lCrdCpKV8v2x"
      },
      "outputs": [],
      "source": [
        "import statistics\n",
        "import pandas as pd\n",
        "import numpy as np\n",
        "from scipy import stats"
      ]
    },
    {
      "cell_type": "code",
      "execution_count": null,
      "metadata": {
        "colab": {
          "background_save": true
        },
        "id": "IjEw0_4y8-1g",
        "outputId": "1f62b404-af9a-410b-b954-95e5ddbb42e4"
      },
      "outputs": [
        {
          "name": "stdout",
          "output_type": "stream",
          "text": [
            "Belanjaan Tia\n",
            "maka jumlah belanjaan Tia Rp.246600\n",
            "maka jumlah belanjan tia setelah mendapatkan diskon Rp.209610.0\n",
            "Belanjaan Hana\n",
            "maka belanjan hana Rp.193200.0\n",
            "maka jumlah belanjan hana setelah mendapatkan diskon Rp.173880.0\n",
            "Belanjaan Widia\n",
            "maka belanjaan widia Rp.290300\n",
            "maka jumlah belanjan widia setelah mendapatkan diskon Rp.261270.0\n",
            "Belanjaan Romi\n",
            "maka belanjaan Romi Rp.239300\n",
            "maka jumlah belanjan Romi setelah mendapatkan diskon Rp.261270.0\n",
            "Belanjaan Samsul\n",
            "maka belanjaan Samsul Rp.323800\n",
            "maka jumlah belanjan Samsul setelah mendapatkan diskon Rp.291420.0\n",
            "Belanjaan Dimas\n",
            "maka belanjaan Dimas Rp.379300\n",
            "maka jumlah belanjan Dimas setelah mendapatkan diskon Rp.341370.0\n"
          ]
        }
      ],
      "source": [
        "beras = 11400\n",
        "minyak = 12700\n",
        "ayam = 3400\n",
        "Telur =\t21800\n",
        "popok =\t27000\t\n",
        "sabun_cuci =\t1800\n",
        "Buah_Anggur =\t3800\n",
        "Roti_tawar =\t8500\n",
        "Tissu = 6400\n",
        "Mie_Instan =\t2200\t\n",
        "\n",
        "print(\"Belanjaan Tia\")\n",
        "beras_Tia = 4\n",
        "ayam_Tia = 2\n",
        "telur_Tia = 3 \n",
        "sabun_cuci_Tia = 5\n",
        "buah_anggur_Tia = 4\n",
        "roti_tawar_Tia = 2\n",
        "mie_instan_tia = 12\n",
        "\n",
        "jb_tia = (beras_Tia * beras) + (ayam_Tia * (ayam * 10) + (telur_Tia * Telur) + (sabun_cuci_Tia * sabun_cuci) + (buah_anggur_Tia * Buah_Anggur) + (roti_tawar_Tia * Roti_tawar) + (mie_instan_tia * Mie_Instan))\n",
        "       \n",
        "jb_diskon_tia = (jb_tia / 100) * 85\n",
        "print(\"maka jumlah belanjaan Tia Rp.\" + str(jb_tia))\n",
        "print(\"maka jumlah belanjan tia setelah mendapatkan diskon Rp.\" + str(jb_diskon_tia))\n",
        "\n",
        "print(\"Belanjaan Hana\")\n",
        "minyak_Hana = 2\n",
        "ayam_Hana = 5\n",
        "Telur_Hana = 1.5\n",
        "sabun_cuci_Hana = 3\n",
        "buah_Anggur_Hana = 8\n",
        "Roti_tawar_Hana = 3\n",
        "Tissu_Hana = 2\n",
        "mie_instan_Hana = 20\n",
        "\n",
        "jb_Hana = (minyak_Hana * minyak) + (ayam_Hana * ayam) + (Telur_Hana * Telur) + (sabun_cuci_Hana * sabun_cuci) + (buah_Anggur_Hana * Buah_Anggur) + (Roti_tawar_Hana * Roti_tawar) + (Tissu_Hana * Tissu) + (mie_instan_Hana * Mie_Instan)\n",
        "diskon = 10\n",
        "jb_diskon_hana = (jb_Hana / 100) * 90\n",
        "print(\"maka belanjan hana Rp.\" + str(jb_Hana))\n",
        "print(\"maka jumlah belanjan hana setelah mendapatkan diskon Rp.\" + str(jb_diskon_hana))\n",
        "\n",
        "print(\"Belanjaan Widia\")\n",
        "beras_Widia = 1\n",
        "minyak_Widia = 1\n",
        "Telur_Widia = 1\n",
        "Buah_Anggur_Widia = 5\n",
        "Tissu_Widia = 3\n",
        "Mie_Instan_widia = 16\n",
        "jb_Widia = (beras_Widia * beras) + (minyak_Widia * minyak) + (Telur_Widia * Telur) + (Buah_Anggur_Widia * (Buah_Anggur * 10) + (Tissu_Widia * Tissu) + (Mie_Instan_widia * Mie_Instan))\n",
        "diskon = 10\n",
        "jb_diskon_widia = (jb_Widia / 100) * 90\n",
        "print(\"maka belanjaan widia Rp.\" + str(jb_Widia))\n",
        "print(\"maka jumlah belanjan widia setelah mendapatkan diskon Rp.\" + str(jb_diskon_widia))\n",
        "\n",
        "print(\"Belanjaan Romi\")\n",
        "minyak_Romi = 3\n",
        "Telur_Romi = 2\n",
        "popok_Romi = 4\n",
        "sabun_cuci_Romi = 8\n",
        "Mie_Instan_Romi = 16\n",
        "jb_Romi = (minyak_Romi * minyak) + (Telur_Romi * Telur) + (popok_Romi * popok) + (sabun_cuci_Romi * sabun_cuci) + (Mie_Instan_Romi * Mie_Instan)\n",
        "diskon = 10\n",
        "jb_diskon_Romi = (jb_Widia / 100) * 90\n",
        "print(\"maka belanjaan Romi Rp.\" + str(jb_Romi))\n",
        "print(\"maka jumlah belanjan Romi setelah mendapatkan diskon Rp.\" + str(jb_diskon_Romi))\n",
        "\n",
        "print(\"Belanjaan Samsul\")\n",
        "ayam_Samsul = 3\n",
        "Telur_Samsul = 4\n",
        "popok_Samsul = 2\n",
        "buah_anggur_Samsul = 7\n",
        "tissu_Samsul = 5\n",
        "Mie_Instan_Samsul = 10\n",
        "jb_Samsul = (ayam_Samsul * (ayam * 10) + (Telur_Samsul * Telur) + (popok_Samsul * popok) + (buah_anggur_Samsul * Buah_Anggur) + (tissu_Samsul * Tissu) + (Mie_Instan_Samsul * Mie_Instan))\n",
        "diskon = 10\n",
        "jb_diskon_Samsul = (jb_Samsul / 100) * 90\n",
        "print(\"maka belanjaan Samsul Rp.\" + str(jb_Samsul))\n",
        "print(\"maka jumlah belanjan Samsul setelah mendapatkan diskon Rp.\" + str(jb_diskon_Samsul))\n",
        "\n",
        "print(\"Belanjaan Dimas\")\n",
        "ayam_Dimas = 5\n",
        "popok_Dimas = 5\n",
        "sabun_cuci_Dimas = 4\n",
        "buah_anggur_Dimas = 3\n",
        "roti_tawar_Dimas = 5\n",
        "mie_instan_Dimas = 6\n",
        "jb_Dimas = (ayam_Dimas * (ayam * 10)) + (popok_Dimas * popok) + (sabun_cuci_Dimas * sabun_cuci) + (buah_anggur_Dimas * Buah_Anggur) + (roti_tawar_Dimas * Roti_tawar) + (mie_instan_Dimas * Mie_Instan)\n",
        "diskon = 10\n",
        "jb_diskon_Dimas = (jb_Dimas / 100) * 90\n",
        "print(\"maka belanjaan Dimas Rp.\" + str(jb_Dimas))\n",
        "print(\"maka jumlah belanjan Dimas setelah mendapatkan diskon Rp.\" + str(jb_diskon_Dimas))\n"
      ]
    }
  ],
  "metadata": {
    "colab": {
      "collapsed_sections": [],
      "provenance": []
    },
    "kernelspec": {
      "display_name": "Python 3",
      "name": "python3"
    },
    "language_info": {
      "name": "python"
    }
  },
  "nbformat": 4,
  "nbformat_minor": 0
}