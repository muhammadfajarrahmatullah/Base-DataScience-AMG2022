{
  "nbformat": 4,
  "nbformat_minor": 0,
  "metadata": {
    "colab": {
      "provenance": []
    },
    "kernelspec": {
      "name": "python3",
      "display_name": "Python 3"
    },
    "language_info": {
      "name": "python"
    }
  },
  "cells": [
    {
      "cell_type": "code",
      "execution_count": null,
      "metadata": {
        "id": "d0jSrVNnTI20"
      },
      "outputs": [],
      "source": [
        "import statistics\n",
        "import pandas as pd\n",
        "import numpy as np\n",
        "from scipy import stats"
      ]
    },
    {
      "cell_type": "code",
      "source": [
        "#sample data tinggi badan \n",
        "tinggi_badan = np.array([160, 152, 170, 165, 160, 177, 150, 164])\n",
        "print(sum(tinggi_badan))\n",
        "#mencari mean secara manual\n",
        "print(sum(tinggi_badan)/8)\n",
        "#mencari data tinggi badan dengan fackage stastistisk\n",
        "print(\"===data tinggi badan===\")\n",
        "mean_tinggi_badan = np.mean(tinggi_badan)\n",
        "median_tinggi_badan = np.median(tinggi_badan)\n",
        "modus_tinggi_badan = stats.mode(tinggi_badan)\n",
        "p25 =np.percentile(tinggi_badan, 25)\n",
        "p50 =np.percentile(tinggi_badan, 50)\n",
        "p75 =np.percentile(tinggi_badan, 75)\n",
        "print(f'percentile 1 -> {p25}')\n",
        "print(f'percentile 2 -> {p50}')\n",
        "print(f'percentile 3 -> {p75}')\n",
        "print(f'mean-> {mean_tinggi_badan}')\n",
        "print(f'median-> {median_tinggi_badan}')\n",
        "print(f'modus-> {modus_tinggi_badan}')\n"
      ],
      "metadata": {
        "colab": {
          "base_uri": "https://localhost:8080/"
        },
        "id": "aLR0yWroWfIb",
        "outputId": "488259d1-6df1-47d8-cbc7-5cf0785e37f7"
      },
      "execution_count": null,
      "outputs": [
        {
          "output_type": "stream",
          "name": "stdout",
          "text": [
            "1298\n",
            "162.25\n",
            "===data tinggi badan===\n",
            "percentile 1 -> 158.0\n",
            "percentile 2 -> 162.0\n",
            "percentile 3 -> 166.25\n",
            "mean-> 162.25\n",
            "median-> 162.0\n",
            "modus-> ModeResult(mode=array([160]), count=array([2]))\n"
          ]
        }
      ]
    },
    {
      "cell_type": "code",
      "source": [
        "tinggi_pohon = np.array([240, 185, 190, 320, 240, 185, 200, 400, 320, 270])\n",
        "diameter_batang = np.array([80, 90, 65, 120, 100, 150, 75, 110, 90, 65])\n",
        "\n",
        "print(sum(tinggi_pohon))\n",
        "print(sum(tinggi_pohon)/8)\n",
        "mean_tinggi_pohon = np.mean(tinggi_pohon)\n",
        "median_tinggi_pohon = np.median(tinggi_pohon)\n",
        "modus_tinggi_pohon = stats.mode(tinggi_pohon)\n",
        "p25 = np.percentile(tinggi_pohon, 25)\n",
        "p50 = np.percentile(tinggi_pohon, 50)\n",
        "p75 = np.percentile(tinggi_pohon, 75)\n",
        "\n",
        "print(f'percentile 1 -> {25}')\n",
        "print(f'percentile 2 -> {50}')\n",
        "print(f'percentile 3 -> {75}')\n",
        "print(f'mean -> {mean_tinggi_pohon}')\n",
        "print(f'median -> {median_tinggi_pohon}')\n",
        "print(f'modus -> {modus_tinggi_pohon}')\n",
        "#diameter_batang\n",
        "print(sum(diameter_batang))\n",
        "print(sum(diameter_batang)/8)\n",
        "mean_diameter_batang = np.mean(diameter_batang)\n",
        "median_diameter_batang = np.median(diameter_batang)\n",
        "modus_diameter_batang = stats.mode(diameter_batang)\n",
        "p25 = np.percentile(diameter_batang, 25)\n",
        "p50 = np.percentile(diameter_batang, 50)\n",
        "p75 = np.percentile(diameter_batang, 75)\n",
        "\n",
        "print(f'percentile 1 -> {25}')\n",
        "print(f'percentile 2 -> {50}')\n",
        "print(f'percentile 3 -> {75}')\n",
        "print(f'mean -> {mean_diameter_batang}')\n",
        "print(f'median -> {median_diameter_batang}')\n",
        "print(f'modus -> {modus_diameter_batang}')\n",
        "\n",
        "data_alam = np.concatenate((tinggi_pohon, diameter_batang))\n",
        "print(data_alam)\n",
        "\n",
        "mean_data_alam = np.mean(data_alam)\n",
        "median_data_alam = np.median(data_alam)\n",
        "modus_data_alam = stats.mode(data_alam)\n",
        "p25 = np.percentile(data_alam, 25)\n",
        "p50 = np.percentile(data_alam, 50)\n",
        "p75 = np.percentile(data_alam, 75)\n",
        "print(f'percentile 1 -> {25}')\n",
        "print(f'percentile 2 -> {50}')\n",
        "print(f'percentile 3 -> {75}')\n",
        "print(f'mean -> {mean_data_alam}')\n",
        "print(f'median -> {median_data_alam}')\n",
        "print(f'modus -> {modus_data_alam}')"
      ],
      "metadata": {
        "colab": {
          "base_uri": "https://localhost:8080/"
        },
        "id": "n-RxksFweWG_",
        "outputId": "8d0eb192-4608-4719-aa93-e54a343e5065"
      },
      "execution_count": null,
      "outputs": [
        {
          "output_type": "stream",
          "name": "stdout",
          "text": [
            "2550\n",
            "318.75\n",
            "percentile 1 -> 25\n",
            "percentile 2 -> 50\n",
            "percentile 3 -> 75\n",
            "mean -> 255.0\n",
            "median -> 240.0\n",
            "modus -> ModeResult(mode=array([185]), count=array([2]))\n",
            "945\n",
            "118.125\n",
            "percentile 1 -> 25\n",
            "percentile 2 -> 50\n",
            "percentile 3 -> 75\n",
            "mean -> 94.5\n",
            "median -> 90.0\n",
            "modus -> ModeResult(mode=array([65]), count=array([2]))\n",
            "[240 185 190 320 240 185 200 400 320 270  80  90  65 120 100 150  75 110\n",
            "  90  65]\n",
            "percentile 1 -> 25\n",
            "percentile 2 -> 50\n",
            "percentile 3 -> 75\n",
            "mean -> 174.75\n",
            "median -> 167.5\n",
            "modus -> ModeResult(mode=array([65]), count=array([2]))\n"
          ]
        }
      ]
    },
    {
      "cell_type": "code",
      "source": [
        "beras = 11400\n",
        "minyak = 12700\n",
        "ayam = 3400\n",
        "\n",
        "print(\"Belanjaan Tia\")\n",
        "beras_Tia = 10\n",
        "ayam_Tia = 3\n",
        "jb_tia = (beras_Tia * beras) + (ayam_Tia * (ayam * 10))\n",
        "diskon = 10\n",
        "jb_diskon_tia = (jb_tia / 100) * 90\n",
        "print(\"maka jumlah belanjaan Tia Rp.\" + str(jb_tia))\n",
        "print(\"maka jumlah belanjan tia setelah mendapatkan diskon\" + str(jb_diskon_tia))\n",
        "\n",
        "print(\"Belanjaan Hana\")\n",
        "minyak_Hana = 2\n",
        "ayam_Hana = 18\n",
        "jb_Hana = (minyak_Hana * minyak) + (ayam_Hana * ayam)\n",
        "diskon = 10\n",
        "jb_diskon_hana = (jb_Hana / 100) * 90\n",
        "print(\"maka belanjan hana Rp.\" + str(jb_Hana))\n",
        "print(\"maka jumlah belanjan hana setelah mendapatkan diskon\" + str(jb_diskon_hana))\n",
        "\n",
        "print(\"Belanjaan Widia\")\n",
        "beras_Widia = 3\n",
        "minyak_Widia = 6\n",
        "jb_Widia = (beras_Widia * beras) + (minyak_Widia * minyak)\n",
        "diskon = 10\n",
        "jb_diskon_widia = (jb_Widia / 100) * 90\n",
        "print(\"maka belanjaan widia Rp.\" + str(jb_Widia))\n",
        "print(\"maka jumlah belanjan widia setelah mendapatkan diskon\" + str(jb_diskon_widia))"
      ],
      "metadata": {
        "colab": {
          "base_uri": "https://localhost:8080/"
        },
        "id": "LI3utFm_iQfL",
        "outputId": "1b4790bb-4749-439d-9600-62907a07d749"
      },
      "execution_count": null,
      "outputs": [
        {
          "output_type": "stream",
          "name": "stdout",
          "text": [
            "Belanjaan Tia\n",
            "maka jumlah belanjaan Tia Rp.216000\n",
            "maka jumlah belanjan tia setelah mendapatkan diskon194400.0\n",
            "Belanjaan Hana\n",
            "maka belanjan hana Rp.86600\n",
            "maka jumlah belanjan hana setelah mendapatkan diskon77940.0\n",
            "Belanjaan Widia\n",
            "maka belanjaan widia Rp.110400\n",
            "maka jumlah belanjan widia setelah mendapatkan diskon99360.0\n"
          ]
        }
      ]
    },
    {
      "cell_type": "code",
      "source": [],
      "metadata": {
        "id": "KhXi_M_swMkf"
      },
      "execution_count": null,
      "outputs": []
    }
  ]
}